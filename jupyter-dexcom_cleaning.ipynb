{
 "cells": [
  {
   "cell_type": "code",
   "execution_count": 1,
   "id": "62150d25-c64d-41d8-b7c9-32bb354d7d22",
   "metadata": {},
   "outputs": [
    {
     "name": "stderr",
     "output_type": "stream",
     "text": [
      "Setting default log level to \"WARN\".\n",
      "To adjust logging level use sc.setLogLevel(newLevel). For SparkR, use setLogLevel(newLevel).\n",
      "22/09/06 01:15:27 INFO org.apache.spark.SparkEnv: Registering MapOutputTracker\n",
      "22/09/06 01:15:27 INFO org.apache.spark.SparkEnv: Registering BlockManagerMaster\n",
      "22/09/06 01:15:28 INFO org.apache.spark.SparkEnv: Registering BlockManagerMasterHeartbeat\n",
      "22/09/06 01:15:28 INFO org.apache.spark.SparkEnv: Registering OutputCommitCoordinator\n"
     ]
    }
   ],
   "source": [
    "from pyspark.sql import SparkSession\n",
    "spark = SparkSession.builder \\\n",
    "  .appName('DexcomCleaning') \\\n",
    "  .getOrCreate()"
   ]
  },
  {
   "cell_type": "code",
   "execution_count": 2,
   "id": "0db8b0a7-aaf9-403f-9f05-6b8f738004b4",
   "metadata": {},
   "outputs": [],
   "source": [
    "#Set output configuration\n",
    "spark.conf.set(\"spark.sql.repl.eagerEval.enabled\",True)"
   ]
  },
  {
   "cell_type": "code",
   "execution_count": 3,
   "id": "cb3ce553-9ad8-4985-9c37-ddbfcc78cbbf",
   "metadata": {},
   "outputs": [],
   "source": [
    "BUCKET_NAME = \"maude-device-reports\""
   ]
  },
  {
   "cell_type": "code",
   "execution_count": null,
   "id": "89c2578b-4e8c-45a7-86a6-d4a90d692c45",
   "metadata": {
    "tags": []
   },
   "outputs": [],
   "source": [
    "#View datasets in blob storage\n",
    "from google.cloud import storage\n",
    "\n",
    "gcs_client = storage.Client()\n",
    "bucket = gcs_client.bucket(BUCKET_NAME)\n",
    "\n",
    "list(bucket.list_blobs())"
   ]
  },
  {
   "cell_type": "code",
   "execution_count": 32,
   "id": "0f1bfd8c-917f-4bca-a6ef-2f45bd6a7e96",
   "metadata": {},
   "outputs": [],
   "source": [
    "from pyspark.sql.types import *\n",
    "\n",
    "def load_text_data(year):\n",
    "    \n",
    "    text_schema = StructType([\n",
    "        StructField(\"MDR_REPORT_KEY\", IntegerType()),\n",
    "        StructField(\"MDR_TEXT_KEY\", IntegerType()),\n",
    "        StructField(\"TEXT_TYPE_CODE\", StringType()),\n",
    "        StructField(\"PATIENT_SEQUENCE_NUMBER\", IntegerType()),\n",
    "        StructField(\"DATE_REPORT\", DateType()),\n",
    "        StructField(\"FOI_TEXT\", StringType())\n",
    "    ])\n",
    "    \n",
    "    \n",
    "    text_df = spark \\\n",
    "        .read \\\n",
    "        .schema(text_schema) \\\n",
    "        .option(\"header\" , \"true\") \\\n",
    "        .option(\"delimiter\", \"|\") \\\n",
    "        .csv(f\"gs://{BUCKET_NAME}/foitext{year}.txt\")\n",
    "    \n",
    "    return text_df\n",
    "\n",
    "def load_device_data(year):\n",
    "\n",
    "    device_schema = StructType([\n",
    "        StructField(\"MDR_REPORT_KEY\", IntegerType()),\n",
    "        StructField(\"DEVICE_EVENT_KEY\", IntegerType()),\n",
    "        StructField(\"IMPLANT_FLAG\", StringType()),\n",
    "        StructField(\"DATE_REMOVED_FLAG\", DateType()),\n",
    "        StructField(\"DEVICE_SEQUENCE_NO\", IntegerType()),\n",
    "        StructField(\"DATE_RECEIVED\", DateType()),\n",
    "        StructField(\"BRAND_NAME\", StringType()),\n",
    "        StructField(\"GENERIC_NAME\", StringType()),\n",
    "        StructField(\"MANUFACTURER_D_NAME\", StringType()),\n",
    "        StructField(\"MANUFACTURER_D_ADDRESS_1\", StringType()),\n",
    "        StructField(\"MANUFACTURER_D_ADDRESS_2\", StringType()),\n",
    "        StructField(\"MANUFACTURER_D_CITY\", StringType()),\n",
    "        StructField(\"MANUFACTURER_D_STATE_CODE\", StringType()),\n",
    "        StructField(\"MANUFACTURER_D_ZIP_CODE\", StringType()),\n",
    "        StructField(\"MANUFACTURER_D_ZIP_CODE_EXT\", StringType()),\n",
    "        StructField(\"MANUFACTURER_D_COUNTRY_CODE\", StringType()),\n",
    "        StructField(\"MANUFACTURER_D_POSTAL_CODE\", StringType()),\n",
    "        StructField(\"DEVICE_OPERATOR\", StringType()),\n",
    "        StructField(\"EXPIRATION_DATE_OF_DEVICE\", DateType()),\n",
    "        StructField(\"MODEL_NUMBER\", IntegerType()),\n",
    "        StructField(\"CATALOG_NUMBER\", IntegerType()),\n",
    "        StructField(\"LOT_NUMBER\", IntegerType()),\n",
    "        StructField(\"OTHER_ID_NUMBER\", StringType()),\n",
    "        StructField(\"DEVICE_AVAILABILITY\", StringType()),\n",
    "        StructField(\"DATE_RETURNED_TO_MANUFACTURER\", DateType()),\n",
    "        StructField(\"DEVICE_REPORT_PRODUCT_CODE\", StringType()),\n",
    "        StructField(\"DEVICE_AGE_TEXT\", StringType()),\n",
    "        StructField(\"DEVICE_EVALUATED_BY_MANUFACTUR\", StringType()),\n",
    "        StructField(\"COMBINATION_PRODUCT_FLAG\", StringType())\n",
    "    ])\n",
    "    \n",
    "    \n",
    "    device_df = spark \\\n",
    "        .read \\\n",
    "        .schema(device_schema) \\\n",
    "        .option(\"header\" , \"true\") \\\n",
    "        .option(\"delimiter\", \"|\") \\\n",
    "        .csv(f\"gs://{BUCKET_NAME}/device{year}.txt\")\n",
    "    \n",
    "    return device_df"
   ]
  },
  {
   "cell_type": "code",
   "execution_count": 36,
   "id": "498177f0-ffaa-414c-a94a-8458b333ea66",
   "metadata": {},
   "outputs": [],
   "source": [
    "text16 = load_text_data(2016)\n",
    "text17 = load_text_data(2017)\n",
    "text18 = load_text_data(2018)\n",
    "text19 = load_text_data(2019)\n",
    "text20 = load_text_data(2020)\n",
    "text21 = load_text_data(2021)"
   ]
  },
  {
   "cell_type": "code",
   "execution_count": 37,
   "id": "61138675-ef91-4fb7-8035-480502b3ec5e",
   "metadata": {},
   "outputs": [],
   "source": [
    "device16 = load_device_data(2016)\n",
    "device17 = load_device_data(2017)\n",
    "device18 = load_device_data(2018)\n",
    "device19 = load_device_data(2019)\n",
    "device20 = load_device_data(2020)\n",
    "device21 = load_device_data(2021)"
   ]
  },
  {
   "cell_type": "code",
   "execution_count": 41,
   "id": "388059a5-3573-4c18-8ac7-3b9cc7dc44ea",
   "metadata": {},
   "outputs": [],
   "source": [
    "from functools import reduce\n",
    "from pyspark.sql import DataFrame\n",
    "\n",
    "def unionAll(*dfs):\n",
    "    return reduce(DataFrame.unionAll, dfs)"
   ]
  },
  {
   "cell_type": "code",
   "execution_count": 42,
   "id": "dd8dc7a7-11f0-4284-9f35-26b7f7ca6cfd",
   "metadata": {},
   "outputs": [],
   "source": [
    "text_all = unionAll(text16, text17, text18, text19, text20, text21) #16802162 records\n",
    "device_all = unionAll(device16, device17, device18, device19, device20, device21) #7790750 records"
   ]
  },
  {
   "cell_type": "code",
   "execution_count": 49,
   "id": "20f90a57-08c8-4659-8182-cf8fc52f1f39",
   "metadata": {},
   "outputs": [],
   "source": [
    "#initial reports have text_type_code = \"D\"\n",
    "text_init = text_all.filter(text_all.TEXT_TYPE_CODE == \"D\")"
   ]
  },
  {
   "cell_type": "code",
   "execution_count": 64,
   "id": "3bd68aeb-9623-49a9-bc64-677b2a8a4394",
   "metadata": {},
   "outputs": [],
   "source": [
    "#Inner Join text On MDR_REPORT_KEY\n",
    "reports_all = device_all.join(text_init, device_all.MDR_REPORT_KEY ==  text_init.MDR_REPORT_KEY, \"left\")"
   ]
  },
  {
   "cell_type": "code",
   "execution_count": 54,
   "id": "3287a979-6c21-460b-a4e5-16ca5e8963d7",
   "metadata": {},
   "outputs": [
    {
     "name": "stderr",
     "output_type": "stream",
     "text": [
      "                                                                                \r"
     ]
    },
    {
     "data": {
      "text/plain": [
       "Row(MDR_REPORT_KEY=9796745, DEVICE_EVENT_KEY=None, IMPLANT_FLAG=None, DATE_REMOVED_FLAG=None, DEVICE_SEQUENCE_NO=1, DATE_RECEIVED=None, BRAND_NAME='PUMP MMT-1714K 630G BLACK MMOL CANADA', GENERIC_NAME='ARTIFICIAL PANCREAS DEVICE SYSTEM, THRESHOLD SUSPEND', MANUFACTURER_D_NAME='MEDTRONIC PUERTO RICO OPERATIONS CO.', MANUFACTURER_D_ADDRESS_1='CEIBA NORTE IND. PARK #50 ROAD', MANUFACTURER_D_ADDRESS_2=None, MANUFACTURER_D_CITY='JUNCOS', MANUFACTURER_D_STATE_CODE=None, MANUFACTURER_D_ZIP_CODE='00777', MANUFACTURER_D_ZIP_CODE_EXT='-386', MANUFACTURER_D_COUNTRY_CODE=None, MANUFACTURER_D_POSTAL_CODE='00777-3869', DEVICE_OPERATOR='0LP', EXPIRATION_DATE_OF_DEVICE=None, MODEL_NUMBER=None, CATALOG_NUMBER=None, LOT_NUMBER=None, OTHER_ID_NUMBER=None, DEVICE_AVAILABILITY='R', DATE_RETURNED_TO_MANUFACTURER=None, DEVICE_REPORT_PRODUCT_CODE='OZO', DEVICE_AGE_TEXT='DA', DEVICE_EVALUATED_BY_MANUFACTUR='R', COMBINATION_PRODUCT_FLAG='N', MDR_REPORT_KEY=9796745, MDR_TEXT_KEY=182417249, TEXT_TYPE_CODE='D', PATIENT_SEQUENCE_NUMBER=1, DATE_REPORT=None, FOI_TEXT='INFORMATION RECEIVED BY MEDTRONIC INDICATED THAT THE RESERVOIR COMPARTMENT WAS DAMAGED. THE CUSTOMER STATED THAT THE RESERVOIR WAS ABLE LOCK INTO PLACE. CUSTOMER STATED THAT THE INSULIN PUMP HAD COSMETIC DAMAGE. CUSTOMER STATED THAT THE RESERVOIR AND INSULIN PUMP DOES NOT SHOW SIGNS OF DAMAGE. NO HARM REQUIRING MEDICAL INTERVENTION WAS REPORTED. THE INSULIN PUMP WILL BE RETURNED FOR ANALYSIS.')"
      ]
     },
     "execution_count": 54,
     "metadata": {},
     "output_type": "execute_result"
    }
   ],
   "source": [
    "reports_all.head()"
   ]
  },
  {
   "cell_type": "code",
   "execution_count": 65,
   "id": "f467d440-7bf9-4eac-aa3e-1e9a2c8dd348",
   "metadata": {},
   "outputs": [],
   "source": [
    "dexcom_reports = reports_all.where(reports_all.BRAND_NAME.contains(\"DEXCOM\"))\n",
    "dexcom_reports = dexcom_reports.dropDuplicates([\"MDR_REPORT_KEY\"])"
   ]
  },
  {
   "cell_type": "code",
   "execution_count": 66,
   "id": "b51aba48-200f-4287-a92e-1e64a2b2dd42",
   "metadata": {},
   "outputs": [
    {
     "ename": "AnalysisException",
     "evalue": "Found duplicate column(s) when inserting into gs://maude-device-reports/dexcom_reports_all.csv: `mdr_report_key`",
     "output_type": "error",
     "traceback": [
      "\u001b[0;31m---------------------------------------------------------------------------\u001b[0m",
      "\u001b[0;31mAnalysisException\u001b[0m                         Traceback (most recent call last)",
      "Input \u001b[0;32mIn [66]\u001b[0m, in \u001b[0;36m<cell line: 6>\u001b[0;34m()\u001b[0m\n\u001b[1;32m      3\u001b[0m dexcom_filepath \u001b[38;5;241m=\u001b[39m \u001b[38;5;124mf\u001b[39m\u001b[38;5;124m\"\u001b[39m\u001b[38;5;124mgs://\u001b[39m\u001b[38;5;132;01m{\u001b[39;00mBUCKET_NAME\u001b[38;5;132;01m}\u001b[39;00m\u001b[38;5;124m/dexcom_reports_all.csv\u001b[39m\u001b[38;5;124m\"\u001b[39m\n\u001b[1;32m      5\u001b[0m \u001b[38;5;66;03m#reports_all.write.mode('overwrite').csv(all_filepath)\u001b[39;00m\n\u001b[0;32m----> 6\u001b[0m \u001b[43mdexcom_reports\u001b[49m\u001b[38;5;241;43m.\u001b[39;49m\u001b[43mcoalesce\u001b[49m\u001b[43m(\u001b[49m\u001b[38;5;241;43m1\u001b[39;49m\u001b[43m)\u001b[49m\u001b[38;5;241;43m.\u001b[39;49m\u001b[43mwrite\u001b[49m\u001b[38;5;241;43m.\u001b[39;49m\u001b[43mmode\u001b[49m\u001b[43m(\u001b[49m\u001b[38;5;124;43m'\u001b[39;49m\u001b[38;5;124;43moverwrite\u001b[39;49m\u001b[38;5;124;43m'\u001b[39;49m\u001b[43m)\u001b[49m\u001b[38;5;241;43m.\u001b[39;49m\u001b[43mcsv\u001b[49m\u001b[43m(\u001b[49m\u001b[43mdexcom_filepath\u001b[49m\u001b[43m)\u001b[49m\n",
      "File \u001b[0;32m/usr/lib/spark/python/pyspark/sql/readwriter.py:1372\u001b[0m, in \u001b[0;36mDataFrameWriter.csv\u001b[0;34m(self, path, mode, compression, sep, quote, escape, header, nullValue, escapeQuotes, quoteAll, dateFormat, timestampFormat, ignoreLeadingWhiteSpace, ignoreTrailingWhiteSpace, charToEscapeQuoteEscaping, encoding, emptyValue, lineSep)\u001b[0m\n\u001b[1;32m   1364\u001b[0m \u001b[38;5;28mself\u001b[39m\u001b[38;5;241m.\u001b[39mmode(mode)\n\u001b[1;32m   1365\u001b[0m \u001b[38;5;28mself\u001b[39m\u001b[38;5;241m.\u001b[39m_set_opts(compression\u001b[38;5;241m=\u001b[39mcompression, sep\u001b[38;5;241m=\u001b[39msep, quote\u001b[38;5;241m=\u001b[39mquote, escape\u001b[38;5;241m=\u001b[39mescape, header\u001b[38;5;241m=\u001b[39mheader,\n\u001b[1;32m   1366\u001b[0m                nullValue\u001b[38;5;241m=\u001b[39mnullValue, escapeQuotes\u001b[38;5;241m=\u001b[39mescapeQuotes, quoteAll\u001b[38;5;241m=\u001b[39mquoteAll,\n\u001b[1;32m   1367\u001b[0m                dateFormat\u001b[38;5;241m=\u001b[39mdateFormat, timestampFormat\u001b[38;5;241m=\u001b[39mtimestampFormat,\n\u001b[0;32m   (...)\u001b[0m\n\u001b[1;32m   1370\u001b[0m                charToEscapeQuoteEscaping\u001b[38;5;241m=\u001b[39mcharToEscapeQuoteEscaping,\n\u001b[1;32m   1371\u001b[0m                encoding\u001b[38;5;241m=\u001b[39mencoding, emptyValue\u001b[38;5;241m=\u001b[39memptyValue, lineSep\u001b[38;5;241m=\u001b[39mlineSep)\n\u001b[0;32m-> 1372\u001b[0m \u001b[38;5;28;43mself\u001b[39;49m\u001b[38;5;241;43m.\u001b[39;49m\u001b[43m_jwrite\u001b[49m\u001b[38;5;241;43m.\u001b[39;49m\u001b[43mcsv\u001b[49m\u001b[43m(\u001b[49m\u001b[43mpath\u001b[49m\u001b[43m)\u001b[49m\n",
      "File \u001b[0;32m/opt/conda/miniconda3/lib/python3.8/site-packages/py4j/java_gateway.py:1304\u001b[0m, in \u001b[0;36mJavaMember.__call__\u001b[0;34m(self, *args)\u001b[0m\n\u001b[1;32m   1298\u001b[0m command \u001b[38;5;241m=\u001b[39m proto\u001b[38;5;241m.\u001b[39mCALL_COMMAND_NAME \u001b[38;5;241m+\u001b[39m\\\n\u001b[1;32m   1299\u001b[0m     \u001b[38;5;28mself\u001b[39m\u001b[38;5;241m.\u001b[39mcommand_header \u001b[38;5;241m+\u001b[39m\\\n\u001b[1;32m   1300\u001b[0m     args_command \u001b[38;5;241m+\u001b[39m\\\n\u001b[1;32m   1301\u001b[0m     proto\u001b[38;5;241m.\u001b[39mEND_COMMAND_PART\n\u001b[1;32m   1303\u001b[0m answer \u001b[38;5;241m=\u001b[39m \u001b[38;5;28mself\u001b[39m\u001b[38;5;241m.\u001b[39mgateway_client\u001b[38;5;241m.\u001b[39msend_command(command)\n\u001b[0;32m-> 1304\u001b[0m return_value \u001b[38;5;241m=\u001b[39m \u001b[43mget_return_value\u001b[49m\u001b[43m(\u001b[49m\n\u001b[1;32m   1305\u001b[0m \u001b[43m    \u001b[49m\u001b[43manswer\u001b[49m\u001b[43m,\u001b[49m\u001b[43m \u001b[49m\u001b[38;5;28;43mself\u001b[39;49m\u001b[38;5;241;43m.\u001b[39;49m\u001b[43mgateway_client\u001b[49m\u001b[43m,\u001b[49m\u001b[43m \u001b[49m\u001b[38;5;28;43mself\u001b[39;49m\u001b[38;5;241;43m.\u001b[39;49m\u001b[43mtarget_id\u001b[49m\u001b[43m,\u001b[49m\u001b[43m \u001b[49m\u001b[38;5;28;43mself\u001b[39;49m\u001b[38;5;241;43m.\u001b[39;49m\u001b[43mname\u001b[49m\u001b[43m)\u001b[49m\n\u001b[1;32m   1307\u001b[0m \u001b[38;5;28;01mfor\u001b[39;00m temp_arg \u001b[38;5;129;01min\u001b[39;00m temp_args:\n\u001b[1;32m   1308\u001b[0m     temp_arg\u001b[38;5;241m.\u001b[39m_detach()\n",
      "File \u001b[0;32m/usr/lib/spark/python/pyspark/sql/utils.py:117\u001b[0m, in \u001b[0;36mcapture_sql_exception.<locals>.deco\u001b[0;34m(*a, **kw)\u001b[0m\n\u001b[1;32m    113\u001b[0m converted \u001b[38;5;241m=\u001b[39m convert_exception(e\u001b[38;5;241m.\u001b[39mjava_exception)\n\u001b[1;32m    114\u001b[0m \u001b[38;5;28;01mif\u001b[39;00m \u001b[38;5;129;01mnot\u001b[39;00m \u001b[38;5;28misinstance\u001b[39m(converted, UnknownException):\n\u001b[1;32m    115\u001b[0m     \u001b[38;5;66;03m# Hide where the exception came from that shows a non-Pythonic\u001b[39;00m\n\u001b[1;32m    116\u001b[0m     \u001b[38;5;66;03m# JVM exception message.\u001b[39;00m\n\u001b[0;32m--> 117\u001b[0m     \u001b[38;5;28;01mraise\u001b[39;00m converted \u001b[38;5;28;01mfrom\u001b[39;00m \u001b[38;5;28mNone\u001b[39m\n\u001b[1;32m    118\u001b[0m \u001b[38;5;28;01melse\u001b[39;00m:\n\u001b[1;32m    119\u001b[0m     \u001b[38;5;28;01mraise\u001b[39;00m\n",
      "\u001b[0;31mAnalysisException\u001b[0m: Found duplicate column(s) when inserting into gs://maude-device-reports/dexcom_reports_all.csv: `mdr_report_key`"
     ]
    }
   ],
   "source": [
    "#Export file to bucket\n",
    "#all_filepath = f\"gs://{BUCKET_NAME}/reports_all.csv\"\n",
    "dexcom_filepath = f\"gs://{BUCKET_NAME}/dexcom_reports_all.csv\"\n",
    "\n",
    "#reports_all.write.mode('overwrite').csv(all_filepath)\n",
    "dexcom_reports.coalesce(1).write.mode('overwrite').csv(dexcom_filepath)"
   ]
  },
  {
   "cell_type": "code",
   "execution_count": null,
   "id": "58b61f7c-b187-4147-810d-4b058f10fbab",
   "metadata": {},
   "outputs": [],
   "source": []
  }
 ],
 "metadata": {
  "kernelspec": {
   "display_name": "Python 3.7.6 64-bit ('anaconda3')",
   "language": "python",
   "name": "python3"
  },
  "language_info": {
   "codemirror_mode": {
    "name": "ipython",
    "version": 3
   },
   "file_extension": ".py",
   "mimetype": "text/x-python",
   "name": "python",
   "nbconvert_exporter": "python",
   "pygments_lexer": "ipython3",
   "version": "3.7.6"
  },
  "vscode": {
   "interpreter": {
    "hash": "2f9646f5fe092bd252f3383a2398620ba16a24c6a6b486a4f3d8bb34b7887ce7"
   }
  }
 },
 "nbformat": 4,
 "nbformat_minor": 5
}
